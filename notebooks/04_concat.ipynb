{
 "cells": [
  {
   "cell_type": "markdown",
   "metadata": {},
   "source": [
    "# Concat "
   ]
  },
  {
   "cell_type": "code",
   "execution_count": 1,
   "metadata": {
    "collapsed": true
   },
   "outputs": [],
   "source": [
    "import pandas as pd\n",
    "import os\n",
    "import utils"
   ]
  },
  {
   "cell_type": "markdown",
   "metadata": {},
   "source": [
    "Our `read_csv` function."
   ]
  },
  {
   "cell_type": "markdown",
   "metadata": {
    "collapsed": false
   },
   "source": [
    "```python\n",
    "    import pandas as pd\n",
    "\n",
    "    def read_csv(filename):\n",
    "        df = pd.read_csv(filename, skiprows=8)\n",
    "        df.rename(columns={'# timestamp': 'timestamp'}, inplace=True)\n",
    "        df['timestamp'] = pd.to_datetime(df['timestamp'])  #might not want this here\n",
    "        df.set_index('timestamp', inplace=True)\n",
    "        return df\n",
    "```"
   ]
  },
  {
   "cell_type": "code",
   "execution_count": 2,
   "metadata": {
    "collapsed": true
   },
   "outputs": [],
   "source": [
    "filenames = ['data/measured_real_power.csv',\n",
    "             'data/measured_reactive_power.csv']"
   ]
  },
  {
   "cell_type": "markdown",
   "metadata": {},
   "source": [
    "Concat"
   ]
  },
  {
   "cell_type": "code",
   "execution_count": 3,
   "metadata": {
    "collapsed": false
   },
   "outputs": [],
   "source": [
    "df1 = utils.read_csv(filenames[0])\n",
    "df2 = utils.read_csv(filenames[1])\n",
    "\n",
    "df = pd.concat([df1, df2], axis=1) # stack side by side"
   ]
  },
  {
   "cell_type": "code",
   "execution_count": 4,
   "metadata": {
    "collapsed": false
   },
   "outputs": [
    {
     "data": {
      "text/plain": [
       "((12961, 20), (12961, 20), (12961, 40))"
      ]
     },
     "execution_count": 4,
     "metadata": {},
     "output_type": "execute_result"
    }
   ],
   "source": [
    "df1.shape, df2.shape, df.shape"
   ]
  },
  {
   "cell_type": "code",
   "execution_count": 5,
   "metadata": {
    "collapsed": false
   },
   "outputs": [
    {
     "data": {
      "text/plain": [
       "20"
      ]
     },
     "execution_count": 5,
     "metadata": {},
     "output_type": "execute_result"
    }
   ],
   "source": [
    "len(set(df.columns))"
   ]
  },
  {
   "cell_type": "code",
   "execution_count": 6,
   "metadata": {
    "collapsed": false
   },
   "outputs": [
    {
     "data": {
      "text/plain": [
       "True"
      ]
     },
     "execution_count": 6,
     "metadata": {},
     "output_type": "execute_result"
    }
   ],
   "source": [
    "all(df1.columns == df2.columns)"
   ]
  },
  {
   "cell_type": "markdown",
   "metadata": {},
   "source": [
    "So now we need to capture some additional information."
   ]
  },
  {
   "cell_type": "code",
   "execution_count": 7,
   "metadata": {
    "collapsed": false
   },
   "outputs": [
    {
     "data": {
      "text/plain": [
       "40"
      ]
     },
     "execution_count": 7,
     "metadata": {},
     "output_type": "execute_result"
    }
   ],
   "source": [
    "def read_csv(filename):\n",
    "    df = pd.read_csv(filename, skiprows=8)\n",
    "    df.rename(columns={'# timestamp': 'timestamp'}, inplace=True)\n",
    "    df.timestamp = pd.to_datetime(df.timestamp)\n",
    "    df.set_index('timestamp', inplace=True)\n",
    "    prefix = os.path.basename(filename).replace('.csv','')\n",
    "    df.columns = [ \"{}:{}\".format(prefix, x) for x in df.columns ]\n",
    "    return df\n",
    "\n",
    "df = pd.concat([ read_csv(x) for x in filenames ], axis=1)\n",
    "len(set(df.columns))"
   ]
  },
  {
   "cell_type": "code",
   "execution_count": 8,
   "metadata": {
    "collapsed": false
   },
   "outputs": [
    {
     "data": {
      "text/plain": [
       "Index([u'measured_real_power:triplex_meter_0',\n",
       "       u'measured_real_power:triplex_meter_1',\n",
       "       u'measured_real_power:triplex_meter_2',\n",
       "       u'measured_real_power:triplex_meter_3',\n",
       "       u'measured_real_power:triplex_meter_4',\n",
       "       u'measured_real_power:triplex_meter_5',\n",
       "       u'measured_real_power:triplex_meter_6',\n",
       "       u'measured_real_power:triplex_meter_7',\n",
       "       u'measured_real_power:triplex_meter_8',\n",
       "       u'measured_real_power:triplex_meter_9',\n",
       "       u'measured_real_power:triplex_meter_10',\n",
       "       u'measured_real_power:triplex_meter_11',\n",
       "       u'measured_real_power:triplex_meter_12',\n",
       "       u'measured_real_power:triplex_meter_13',\n",
       "       u'measured_real_power:triplex_meter_14',\n",
       "       u'measured_real_power:triplex_meter_15',\n",
       "       u'measured_real_power:triplex_meter_16',\n",
       "       u'measured_real_power:triplex_meter_17',\n",
       "       u'measured_real_power:triplex_meter_18',\n",
       "       u'measured_real_power:triplex_meter_19',\n",
       "       u'measured_reactive_power:triplex_meter_0',\n",
       "       u'measured_reactive_power:triplex_meter_1',\n",
       "       u'measured_reactive_power:triplex_meter_2',\n",
       "       u'measured_reactive_power:triplex_meter_3',\n",
       "       u'measured_reactive_power:triplex_meter_4',\n",
       "       u'measured_reactive_power:triplex_meter_5',\n",
       "       u'measured_reactive_power:triplex_meter_6',\n",
       "       u'measured_reactive_power:triplex_meter_7',\n",
       "       u'measured_reactive_power:triplex_meter_8',\n",
       "       u'measured_reactive_power:triplex_meter_9',\n",
       "       u'measured_reactive_power:triplex_meter_10',\n",
       "       u'measured_reactive_power:triplex_meter_11',\n",
       "       u'measured_reactive_power:triplex_meter_12',\n",
       "       u'measured_reactive_power:triplex_meter_13',\n",
       "       u'measured_reactive_power:triplex_meter_14',\n",
       "       u'measured_reactive_power:triplex_meter_15',\n",
       "       u'measured_reactive_power:triplex_meter_16',\n",
       "       u'measured_reactive_power:triplex_meter_17',\n",
       "       u'measured_reactive_power:triplex_meter_18',\n",
       "       u'measured_reactive_power:triplex_meter_19'],\n",
       "      dtype='object')"
      ]
     },
     "execution_count": 8,
     "metadata": {},
     "output_type": "execute_result"
    }
   ],
   "source": [
    "df.columns"
   ]
  },
  {
   "cell_type": "markdown",
   "metadata": {},
   "source": [
    "## Glob "
   ]
  },
  {
   "cell_type": "code",
   "execution_count": 10,
   "metadata": {
    "collapsed": true
   },
   "outputs": [],
   "source": [
    "import glob"
   ]
  },
  {
   "cell_type": "code",
   "execution_count": 12,
   "metadata": {
    "collapsed": false
   },
   "outputs": [
    {
     "data": {
      "text/plain": [
       "['data/neighborhood/outputFiles/auction_0.csv',\n",
       " 'data/neighborhood/outputFiles/house:air_temperature.csv',\n",
       " 'data/neighborhood/outputFiles/house:cooling_setpoint.csv',\n",
       " 'data/neighborhood/outputFiles/house:heating_setpoint.csv',\n",
       " 'data/neighborhood/outputFiles/house:hvac_power.imag.csv',\n",
       " 'data/neighborhood/outputFiles/house:hvac_power.real.csv',\n",
       " 'data/neighborhood/outputFiles/house:incident_solar_radiation.csv',\n",
       " 'data/neighborhood/outputFiles/house:mass_temperature.csv',\n",
       " 'data/neighborhood/outputFiles/house:outdoor_temperature.csv',\n",
       " 'data/neighborhood/outputFiles/inverter_0.csv',\n",
       " 'data/neighborhood/outputFiles/inverter_1.csv',\n",
       " 'data/neighborhood/outputFiles/inverter_2.csv',\n",
       " 'data/neighborhood/outputFiles/inverter_3.csv',\n",
       " 'data/neighborhood/outputFiles/inverter_4.csv',\n",
       " 'data/neighborhood/outputFiles/inverter_5.csv',\n",
       " 'data/neighborhood/outputFiles/inverter_6.csv',\n",
       " 'data/neighborhood/outputFiles/inverter_7.csv',\n",
       " 'data/neighborhood/outputFiles/inverter_8.csv',\n",
       " 'data/neighborhood/outputFiles/inverter_9.csv',\n",
       " 'data/neighborhood/outputFiles/triplex_meter:measured_reactive_power.csv',\n",
       " 'data/neighborhood/outputFiles/triplex_meter:measured_real_power.csv',\n",
       " 'data/neighborhood/outputFiles/triplex_meter:monthly_bill.csv',\n",
       " 'data/neighborhood/outputFiles/triplex_meter:monthly_energy.csv',\n",
       " 'data/neighborhood/outputFiles/triplex_meter:price.csv']"
      ]
     },
     "execution_count": 12,
     "metadata": {},
     "output_type": "execute_result"
    }
   ],
   "source": [
    "filenames = glob.glob('data/neighborhood/outputFiles/*.csv')\n",
    "filenames"
   ]
  },
  {
   "cell_type": "code",
   "execution_count": 14,
   "metadata": {
    "collapsed": false
   },
   "outputs": [
    {
     "name": "stdout",
     "output_type": "stream",
     "text": [
      "data/neighborhood/outputFiles/auction_0.csv\n",
      "data/neighborhood/outputFiles/house:air_temperature.csv\n",
      "data/neighborhood/outputFiles/house:cooling_setpoint.csv\n",
      "data/neighborhood/outputFiles/house:heating_setpoint.csv\n",
      "data/neighborhood/outputFiles/house:hvac_power.imag.csv\n",
      "data/neighborhood/outputFiles/house:hvac_power.real.csv\n",
      "data/neighborhood/outputFiles/house:incident_solar_radiation.csv\n",
      "data/neighborhood/outputFiles/house:mass_temperature.csv\n",
      "data/neighborhood/outputFiles/house:outdoor_temperature.csv\n",
      "data/neighborhood/outputFiles/inverter_0.csv\n",
      "data/neighborhood/outputFiles/inverter_1.csv\n",
      "data/neighborhood/outputFiles/inverter_2.csv\n",
      "data/neighborhood/outputFiles/inverter_3.csv\n",
      "data/neighborhood/outputFiles/inverter_4.csv\n",
      "data/neighborhood/outputFiles/inverter_5.csv\n",
      "data/neighborhood/outputFiles/inverter_6.csv\n",
      "data/neighborhood/outputFiles/inverter_7.csv\n",
      "data/neighborhood/outputFiles/inverter_8.csv\n",
      "data/neighborhood/outputFiles/inverter_9.csv\n",
      "data/neighborhood/outputFiles/triplex_meter:measured_reactive_power.csv\n",
      "data/neighborhood/outputFiles/triplex_meter:measured_real_power.csv\n",
      "data/neighborhood/outputFiles/triplex_meter:monthly_bill.csv\n",
      "data/neighborhood/outputFiles/triplex_meter:monthly_energy.csv\n",
      "data/neighborhood/outputFiles/triplex_meter:price.csv\n"
     ]
    }
   ],
   "source": [
    "def print_func(x):\n",
    "    print(x)\n",
    "\n",
    "_ = [ print_func(x) for x in filenames]"
   ]
  },
  {
   "cell_type": "code",
   "execution_count": 15,
   "metadata": {
    "collapsed": false
   },
   "outputs": [
    {
     "data": {
      "text/plain": [
       "(12961, 285)"
      ]
     },
     "execution_count": 15,
     "metadata": {},
     "output_type": "execute_result"
    }
   ],
   "source": [
    "def read_dir(filenames):\n",
    "    return pd.concat([ read_csv(x) for x in filenames ], axis=1)\n",
    "\n",
    "read_dir(filenames).shape"
   ]
  },
  {
   "cell_type": "markdown",
   "metadata": {},
   "source": [
    "Takes a while... Can we do better?"
   ]
  },
  {
   "cell_type": "code",
   "execution_count": 11,
   "metadata": {
    "collapsed": false
   },
   "outputs": [
    {
     "name": "stdout",
     "output_type": "stream",
     "text": [
      "         109249470 function calls (109248688 primitive calls) in 82.858 seconds\n",
      "\n",
      "   Ordered by: standard name\n",
      "\n",
      "   ncalls  tottime  percall  cumtime  percall filename:lineno(function)\n",
      "        1    0.002    0.002   82.855   82.855 <ipython-input-10-68973f701e2a>:3(read_dir)\n",
      "       24    0.004    0.000   82.815    3.451 <ipython-input-8-fa4a7f5dc4a9>:1(read_csv)\n",
      "        1    0.003    0.003   82.858   82.858 <string>:1(<module>)\n",
      "       48    0.000    0.000    0.000    0.000 <string>:8(__new__)\n",
      "      289    0.000    0.000    0.000    0.000 __init__.py:157(iteritems)\n",
      "      150    0.000    0.000    0.001    0.000 _methods.py:37(_any)\n",
      "       51    0.000    0.000    0.000    0.000 _methods.py:40(_all)\n",
      "  1244212    0.647    0.000    5.063    0.000 _strptime.py:27(_getlang)\n",
      "  1244212    4.420    0.000   10.754    0.000 _strptime.py:295(_strptime)\n",
      "   622106    0.424    0.000    0.424    0.000 _weakrefset.py:70(__contains__)\n",
      "   311053    0.777    0.000    1.297    0.000 abc.py:128(__instancecheck__)\n",
      "       52    0.000    0.000    0.000    0.000 algorithms.py:807(_get_take_nd_function)\n",
      "       52    0.001    0.000    0.003    0.000 algorithms.py:840(take_nd)\n",
      "        1    0.000    0.000    0.004    0.004 api.py:25(_get_combined_index)\n",
      "        1    0.000    0.000    0.000    0.000 api.py:41(_get_distinct_indexes)\n",
      "       25    0.000    0.000    0.000    0.000 api.py:42(<genexpr>)\n",
      "        1    0.000    0.000    0.004    0.004 api.py:45(_union_indexes)\n",
      "        1    0.000    0.000    0.000    0.000 api.py:87(_sanitize_and_check)\n",
      "       24    0.000    0.000    0.000    0.000 base.py:106(_reset_cache)\n",
      "       24    0.000    0.000    0.000    0.000 base.py:1136(_cleanup)\n",
      "       81    0.000    0.000    0.000    0.000 base.py:1143(_engine)\n",
      "       79    0.000    0.000    0.000    0.000 base.py:1146(<lambda>)\n",
      "        9    0.000    0.000    0.001    0.000 base.py:115(wrapper)\n",
      "       72    0.000    0.000    0.000    0.000 base.py:1186(__iter__)\n",
      "      501    0.001    0.000    0.001    0.000 base.py:1233(__contains__)\n",
      "  169/121    0.003    0.000    0.012    0.000 base.py:124(__new__)\n",
      "       72    0.000    0.000    0.001    0.000 base.py:1247(__getitem__)\n",
      "        1    0.000    0.000    0.000    0.000 base.py:1281(_ensure_compat_append)\n",
      "        1    0.000    0.000    0.000    0.000 base.py:1308(append)\n",
      "        1    0.000    0.000    0.000    0.000 base.py:1326(_ensure_compat_concat)\n",
      "       24    0.000    0.000    0.001    0.000 base.py:1507(equals)\n",
      "       14    0.000    0.000    0.000    0.000 base.py:1676(_get_consensus_name)\n",
      "       23    0.000    0.000    0.003    0.000 base.py:1691(union)\n",
      "      144    0.000    0.000    0.001    0.000 base.py:1915(get_loc)\n",
      "       11    0.000    0.000    0.001    0.000 base.py:2028(get_indexer)\n",
      "        1    0.000    0.000    0.001    0.001 base.py:227(inferred_freq)\n",
      "       11    0.000    0.000    0.010    0.001 base.py:2295(reindex)\n",
      "      145    0.001    0.000    0.001    0.000 base.py:309(_simple_new)\n",
      "      432    0.001    0.000    0.007    0.000 base.py:3381(_ensure_index)\n",
      "       11    0.000    0.000    0.000    0.000 base.py:3425(_ensure_has_len)\n",
      "       48    0.000    0.000    0.001    0.000 base.py:346(_shallow_copy)\n",
      "        1    0.000    0.000    0.000    0.000 base.py:354(_shallow_copy_with_infer)\n",
      "       82    0.000    0.000    0.000    0.000 base.py:383(is_)\n",
      "      250    0.000    0.000    0.000    0.000 base.py:403(_reset_identity)\n",
      "      649    0.000    0.000    0.000    0.000 base.py:409(__len__)\n",
      "        1    0.000    0.000    0.000    0.000 base.py:415(__array__)\n",
      "      393    0.000    0.000    0.001    0.000 base.py:440(values)\n",
      "       48    0.000    0.000    0.000    0.000 base.py:445(get_values)\n",
      "       50    0.000    0.000    0.000    0.000 base.py:506(_get_attributes_dict)\n",
      "       48    0.000    0.000    0.001    0.000 base.py:510(view)\n",
      "       23    0.000    0.000    0.000    0.000 base.py:778(_assert_can_do_setop)\n",
      "       44    0.000    0.000    0.000    0.000 base.py:870(_values)\n",
      "       18    0.000    0.000    0.000    0.000 base.py:914(is_monotonic)\n",
      "        1    0.000    0.000    0.000    0.000 base.py:919(is_monotonic_increasing)\n",
      "       36    0.009    0.000    0.009    0.000 base.py:938(is_unique)\n",
      "       56    0.001    0.000    0.002    0.000 common.py:1011(_possibly_cast_to_datetime)\n",
      "       56    0.000    0.000    0.001    0.000 common.py:1111(_possibly_infer_to_datetimelike)\n",
      "       24    0.000    0.000    0.000    0.000 common.py:1203(is_bool_indexer)\n",
      "       48    0.000    0.000    0.001    0.000 common.py:1226(_default_index)\n",
      "       24    0.000    0.000    0.000    0.000 common.py:1276(_count_not_none)\n",
      "       72    0.000    0.000    0.000    0.000 common.py:1277(<genexpr>)\n",
      "      145    0.001    0.000    0.002    0.000 common.py:1380(_asarray_tuplesafe)\n",
      "        1    0.000    0.000    0.000    0.000 common.py:1456(is_period_arraylike)\n",
      "       24    0.000    0.000    0.000    0.000 common.py:1474(is_datetimelike)\n",
      "      112    0.000    0.000    0.000    0.000 common.py:1491(_get_dtype)\n",
      "      322    0.001    0.000    0.001    0.000 common.py:1511(_get_dtype_type)\n",
      "       20    0.000    0.000    0.000    0.000 common.py:1532(is_dtype_equal)\n",
      "       94    0.000    0.000    0.000    0.000 common.py:1567(is_datetime64_dtype)\n",
      "      522    0.000    0.000    0.001    0.000 common.py:1575(is_datetime64tz_dtype)\n",
      "       24    0.000    0.000    0.000    0.000 common.py:1584(is_datetime64_ns_dtype)\n",
      "       37    0.000    0.000    0.000    0.000 common.py:1592(is_timedelta64_dtype)\n",
      "       24    0.000    0.000    0.000    0.000 common.py:165(_isnull_ndarraylike)\n",
      "       24    0.000    0.000    0.000    0.000 common.py:1675(is_string_dtype)\n",
      "       97    0.000    0.000    0.001    0.000 common.py:1696(is_bool_dtype)\n",
      "      413    0.000    0.000    0.001    0.000 common.py:1705(is_sparse)\n",
      "      498    0.000    0.000    0.003    0.000 common.py:1710(is_datetimetz)\n",
      "      104    0.000    0.000    0.002    0.000 common.py:1717(is_extension_type)\n",
      "      204    0.000    0.000    0.001    0.000 common.py:1731(is_categorical)\n",
      "      631    0.001    0.000    0.003    0.000 common.py:1736(is_categorical_dtype)\n",
      "       94    0.000    0.000    0.001    0.000 common.py:1745(is_object_dtype)\n",
      "      697    0.000    0.000    0.001    0.000 common.py:1763(is_list_like)\n",
      "       72    0.000    0.000    0.000    0.000 common.py:1788(is_hashable)\n",
      "       96    0.000    0.000    0.000    0.000 common.py:1846(_apply_if_callable)\n",
      "       24    0.000    0.000    0.001    0.000 common.py:186(_is_url)\n",
      "       24    0.000    0.000    0.000    0.000 common.py:204(_is_s3_url)\n",
      "       24    0.000    0.000    0.000    0.000 common.py:245(_expand_user)\n",
      "       24    0.000    0.000    0.000    0.000 common.py:263(_validate_header_arg)\n",
      "       24    0.000    0.000    0.000    0.000 common.py:271(_stringify_path)\n",
      "       24    0.000    0.000    0.000    0.000 common.py:272(array_equivalent)\n",
      "       24    0.000    0.000    0.001    0.000 common.py:290(get_filepath_or_buffer)\n",
      "       52    0.000    0.000    0.001    0.000 common.py:527(_maybe_promote)\n",
      "       72    0.000    0.000    0.001    0.000 common.py:73(isnull)\n",
      "       72    0.000    0.000    0.001    0.000 common.py:94(_isnull_new)\n",
      "      333    0.000    0.000    0.000    0.000 common.py:986(_possibly_castable)\n",
      "        1    0.000    0.000    0.000    0.000 concat.py:70(_get_frame_result_type)\n",
      "       38    0.000    0.000    0.000    0.000 concat.py:76(<genexpr>)\n",
      "       48    0.000    0.000   81.861    1.705 decorators.py:65(wrapper)\n",
      "      243    0.000    0.000    0.000    0.000 dtypes.py:122(construct_from_string)\n",
      "       26    0.000    0.000    0.000    0.000 dtypes.py:159(__init__)\n",
      "       26    0.000    0.000    0.000    0.000 dtypes.py:191(construct_from_string)\n",
      "     1153    0.002    0.000    0.003    0.000 dtypes.py:74(is_dtype)\n",
      "       72    0.000    0.000    0.006    0.000 frame.py:1973(__getitem__)\n",
      "       72    0.000    0.000    0.005    0.000 frame.py:1999(_getitem_column)\n",
      "       25    0.000    0.000    0.040    0.002 frame.py:210(__init__)\n",
      "       48    0.000    0.000    0.002    0.000 frame.py:2331(_box_item_values)\n",
      "       48    0.000    0.000    0.002    0.000 frame.py:2338(_box_col_values)\n",
      "       24    0.000    0.000    0.009    0.000 frame.py:2343(__setitem__)\n",
      "       24    0.000    0.000    0.000    0.000 frame.py:2394(_ensure_valid_index)\n",
      "       24    0.000    0.000    0.009    0.000 frame.py:2411(_set_item)\n",
      "       24    0.000    0.000    0.002    0.000 frame.py:2531(_sanitize_column)\n",
      "       24    0.000    0.000    0.001    0.000 frame.py:2535(reindexer)\n",
      "       24    0.000    0.000    0.027    0.001 frame.py:2751(rename)\n",
      "       24    0.000    0.000    0.011    0.000 frame.py:2769(set_index)\n",
      "       24    0.001    0.000    0.040    0.002 frame.py:307(_init_dict)\n",
      "      333    0.000    0.000    0.001    0.000 frame.py:321(<genexpr>)\n",
      "       24    0.000    0.000    0.000    0.000 frame.py:442(shape)\n",
      "       24    0.000    0.000    0.031    0.001 frame.py:5224(_arrays_to_mgr)\n",
      "       48    0.001    0.000    0.004    0.000 frame.py:5244(extract_index)\n",
      "       24    0.001    0.000    0.006    0.000 frame.py:5521(_homogenize)\n",
      "       24    0.000    0.000    0.000    0.000 frame.py:726(__len__)\n",
      "        1    0.000    0.000    0.000    0.000 frequencies.py:1127(_maybe_add_count)\n",
      "        3    0.000    0.000    0.000    0.000 frequencies.py:1300(_is_multiple)\n",
      "       25    0.000    0.000    0.000    0.000 frequencies.py:420(to_offset)\n",
      "        1    0.000    0.000    0.000    0.000 frequencies.py:527(get_offset)\n",
      "        1    0.000    0.000    0.001    0.001 frequencies.py:826(infer_freq)\n",
      "        1    0.000    0.000    0.000    0.000 frequencies.py:890(__init__)\n",
      "        1    0.000    0.000    0.000    0.000 frequencies.py:908(deltas)\n",
      "        1    0.000    0.000    0.000    0.000 frequencies.py:912(deltas_asi8)\n",
      "        1    0.000    0.000    0.000    0.000 frequencies.py:920(is_unique_asi8)\n",
      "        1    0.000    0.000    0.001    0.001 frequencies.py:924(get_freq)\n",
      "        1    0.000    0.000    0.000    0.000 frequencies.py:964(hour_deltas)\n",
      "        1    0.000    0.000    0.000    0.000 generic.py:124(_init_mgr)\n",
      "       72    0.000    0.000    0.005    0.000 generic.py:1345(_get_item_cache)\n",
      "       48    0.000    0.000    0.000    0.000 generic.py:1359(_set_as_cached)\n",
      "       24    0.000    0.000    0.000    0.000 generic.py:1407(_maybe_update_cacher)\n",
      "      120    0.000    0.000    0.000    0.000 generic.py:1441(_clear_item_cache)\n",
      "       24    0.000    0.000    0.006    0.000 generic.py:1463(_set_item)\n",
      "       48    0.000    0.000    0.000    0.000 generic.py:1497(_check_setitem_copy)\n",
      "       24    0.000    0.000    0.006    0.000 generic.py:1580(__delitem__)\n",
      "       24    0.000    0.000    0.000    0.000 generic.py:1904(_update_inplace)\n",
      "       24    0.000    0.000    0.000    0.000 generic.py:260(_construct_axes_from_arguments)\n",
      "        1    0.000    0.000    0.000    0.000 generic.py:2641(__finalize__)\n",
      "  168/144    0.000    0.000    0.004    0.000 generic.py:2658(__getattr__)\n",
      "      336    0.003    0.000    0.016    0.000 generic.py:2674(__setattr__)\n",
      "       48    0.000    0.000    0.000    0.000 generic.py:2713(_protect_consolidate)\n",
      "       48    0.000    0.000    0.000    0.000 generic.py:2723(_consolidate_inplace)\n",
      "       48    0.000    0.000    0.000    0.000 generic.py:2726(f)\n",
      "       24    0.000    0.000    0.000    0.000 generic.py:2731(consolidate)\n",
      "        1    0.000    0.000    0.000    0.000 generic.py:295(_from_axes)\n",
      "       24    0.000    0.000    0.000    0.000 generic.py:307(_get_axis_number)\n",
      "       24    0.000    0.000    0.000    0.000 generic.py:337(_get_block_manager_axis)\n",
      "       72    0.000    0.000    0.000    0.000 generic.py:381(_info_axis)\n",
      "       26    0.000    0.000    0.000    0.000 generic.py:401(ndim)\n",
      "       48    0.000    0.000    0.003    0.000 generic.py:427(_set_axis)\n",
      "       24    0.000    0.000    0.027    0.001 generic.py:615(rename)\n",
      "       24    0.000    0.000    0.000    0.000 generic.py:631(_get_rename_function)\n",
      "      309    0.000    0.000    0.000    0.000 generic.py:634(f)\n",
      "     2307    0.001    0.000    0.003    0.000 generic.py:7(_check)\n",
      "       97    0.000    0.000    0.000    0.000 generic.py:94(__init__)\n",
      "       23    0.000    0.000    0.000    0.000 index.py:1076(_maybe_utc_convert)\n",
      "       23    0.000    0.000    0.000    0.000 index.py:1104(_can_fast_union)\n",
      "        9    0.000    0.000    0.000    0.000 index.py:1189(_wrap_union_result)\n",
      "       11    0.000    0.000    0.000    0.000 index.py:1358(_possibly_promote)\n",
      "        1    0.000    0.000    0.000    0.000 index.py:1538(_get_freq)\n",
      "      128    0.000    0.000    0.000    0.000 index.py:1657(inferred_type)\n",
      "       21    0.000    0.000    0.000    0.000 index.py:1663(dtype)\n",
      "       58    0.000    0.000    0.002    0.000 index.py:1684(equals)\n",
      "       24    0.000    0.000    0.001    0.000 index.py:219(__new__)\n",
      "       33    0.000    0.000    0.001    0.000 index.py:570(_simple_new)\n",
      "       78    0.000    0.000    0.000    0.000 index.py:600(tzinfo)\n",
      "       20    0.000    0.000    0.000    0.000 index.py:607(_timezone)\n",
      "       58    0.000    0.000    0.000    0.000 index.py:612(_has_same_tz)\n",
      "        1    0.000    0.000    0.004    0.004 index.py:999(union_many)\n",
      "       24    0.000    0.000    0.000    0.000 index_tricks.py:231(_retval)\n",
      "       24    0.001    0.000    0.001    0.000 index_tricks.py:251(__getitem__)\n",
      "       24    0.000    0.000    0.000    0.000 indexing.py:1753(convert_to_index_sliceable)\n",
      "       72    0.000    0.000    0.000    0.000 internals.py:129(internal_values)\n",
      "       37    0.000    0.000    0.000    0.000 internals.py:135(get_values)\n",
      "       24    0.000    0.000    0.000    0.000 internals.py:156(fill_value)\n",
      "      806    0.000    0.000    0.000    0.000 internals.py:160(mgr_locs)\n",
      "       72    0.000    0.000    0.001    0.000 internals.py:1657(__init__)\n",
      "       24    0.001    0.000    0.001    0.000 internals.py:1765(should_store)\n",
      "      107    0.000    0.000    0.001    0.000 internals.py:183(make_block_same_class)\n",
      "      286    0.001    0.000    0.002    0.000 internals.py:191(mgr_locs)\n",
      "       72    0.000    0.000    0.001    0.000 internals.py:2026(__init__)\n",
      "      251    0.001    0.000    0.006    0.000 internals.py:2482(make_block)\n",
      "       49    0.000    0.000    0.005    0.000 internals.py:2578(__init__)\n",
      "      243    0.001    0.000    0.002    0.000 internals.py:2619(shape)\n",
      "      729    0.000    0.000    0.001    0.000 internals.py:2621(<genexpr>)\n",
      "      253    0.000    0.000    0.000    0.000 internals.py:2623(ndim)\n",
      "       72    0.000    0.000    0.003    0.000 internals.py:2627(set_axis)\n",
      "       24    0.000    0.000    0.023    0.001 internals.py:2639(rename_axis)\n",
      "       96    0.000    0.000    0.000    0.000 internals.py:264(shape)\n",
      "       24    0.000    0.000    0.000    0.000 internals.py:2662(_is_single_block)\n",
      "       73    0.002    0.000    0.004    0.000 internals.py:2674(_rebuild_blknos_and_blklocs)\n",
      "      230    0.000    0.000    0.000    0.000 internals.py:2695(_get_items)\n",
      "      227    0.000    0.000    0.000    0.000 internals.py:272(dtype)\n",
      "      190    0.000    0.000    0.000    0.000 internals.py:276(ftype)\n",
      "       13    0.000    0.000    0.000    0.000 internals.py:2784(__len__)\n",
      "       25    0.000    0.000    0.001    0.000 internals.py:2799(_verify_integrity)\n",
      "      121    0.000    0.000    0.000    0.000 internals.py:2801(<genexpr>)\n",
      "       24    0.000    0.000    0.018    0.001 internals.py:2811(apply)\n",
      "       24    0.000    0.000    0.000    0.000 internals.py:2871(<genexpr>)\n",
      "      120    0.000    0.000    0.000    0.000 internals.py:2996(is_consolidated)\n",
      "       73    0.000    0.000    0.001    0.000 internals.py:3004(_consolidate_check)\n",
      "       48    0.000    0.000    0.000    0.000 internals.py:301(iget)\n",
      "       72    0.000    0.000    0.000    0.000 internals.py:3107(nblocks)\n",
      "       24    0.000    0.000    0.019    0.001 internals.py:3111(copy)\n",
      "       48    0.000    0.000    0.001    0.000 internals.py:3131(<lambda>)\n",
      "       48    0.000    0.000    0.000    0.000 internals.py:3260(consolidate)\n",
      "       72    0.000    0.000    0.000    0.000 internals.py:3276(_consolidate_inplace)\n",
      "       48    0.000    0.000    0.002    0.000 internals.py:3283(get)\n",
      "       48    0.000    0.000    0.001    0.000 internals.py:3312(iget)\n",
      "       24    0.001    0.000    0.006    0.000 internals.py:3345(delete)\n",
      "       59    0.000    0.000    0.000    0.000 internals.py:3378(<genexpr>)\n",
      "       24    0.002    0.000    0.006    0.000 internals.py:3383(set)\n",
      "       24    0.000    0.000    0.000    0.000 internals.py:3407(value_getitem)\n",
      "       59    0.000    0.000    0.000    0.000 internals.py:3459(<genexpr>)\n",
      "       72    0.000    0.000    0.001    0.000 internals.py:3778(__init__)\n",
      "       72    0.000    0.000    0.000    0.000 internals.py:3824(_block)\n",
      "       72    0.000    0.000    0.000    0.000 internals.py:3911(internal_values)\n",
      "       24    0.000    0.000    0.025    0.001 internals.py:3996(create_block_manager_from_arrays)\n",
      "       24    0.001    0.000    0.022    0.001 internals.py:4007(form_blocks)\n",
      "       24    0.000    0.000    0.004    0.000 internals.py:4122(_simple_blockify)\n",
      "       35    0.000    0.000    0.012    0.000 internals.py:4136(_multi_blockify)\n",
      "      285    0.000    0.000    0.000    0.000 internals.py:4140(<lambda>)\n",
      "       59    0.010    0.000    0.012    0.000 internals.py:4168(_stack_arrays)\n",
      "      309    0.000    0.000    0.001    0.000 internals.py:4171(_asarray_compat)\n",
      "       59    0.000    0.000    0.000    0.000 internals.py:4177(_shape_compat)\n",
      "       59    0.000    0.000    0.000    0.000 internals.py:4301(_extend_blocks)\n",
      "       83    0.000    0.000    0.000    0.000 internals.py:4409(_get_blkno_placements)\n",
      "       24    0.000    0.000    0.004    0.000 internals.py:4461(_transform_index)\n",
      "        1    0.000    0.000    0.023    0.023 internals.py:4526(concatenate_block_managers)\n",
      "       37    0.001    0.000    0.005    0.000 internals.py:4550(get_empty_dtype_and_na)\n",
      "       37    0.000    0.000    0.021    0.001 internals.py:4630(concatenate_join_units)\n",
      "       24    0.000    0.000    0.001    0.000 internals.py:4655(get_mgr_concatenation_plan)\n",
      "       38    0.000    0.000    0.000    0.000 internals.py:4734(combine_concat_plans)\n",
      "       37    0.000    0.000    0.000    0.000 internals.py:4827(__init__)\n",
      "       37    0.000    0.000    0.001    0.000 internals.py:4839(needs_filling)\n",
      "       37    0.000    0.000    0.001    0.000 internals.py:4848(dtype)\n",
      "       37    0.000    0.000    0.002    0.000 internals.py:4861(is_null)\n",
      "       37    0.000    0.000    0.003    0.000 internals.py:4890(get_reindexed_values)\n",
      "       24    0.000    0.000    0.001    0.000 internals.py:4947(_fast_count_smallints)\n",
      "       59    0.000    0.000    0.016    0.000 internals.py:581(copy)\n",
      "      251    0.001    0.000    0.003    0.000 internals.py:77(__init__)\n",
      "  1244212    1.673    0.000    2.444    0.000 locale.py:363(normalize)\n",
      "  1244212    0.720    0.000    3.164    0.000 locale.py:447(_parse_localename)\n",
      "  1244212    0.883    0.000    4.417    0.000 locale.py:546(getlocale)\n",
      "        1    0.000    0.000    0.000    0.000 merge.py:1046(_get_result_dim)\n",
      "        1    0.000    0.000    0.004    0.004 merge.py:1052(_get_new_axes)\n",
      "        1    0.000    0.000    0.004    0.004 merge.py:1076(_get_comb_axis)\n",
      "        1    0.000    0.000    0.000    0.000 merge.py:1088(_get_concat_axis)\n",
      "        1    0.000    0.000    0.000    0.000 merge.py:1136(_maybe_check_integrity)\n",
      "        1    0.000    0.000    0.000    0.000 merge.py:1144(_concat_indexes)\n",
      "        1    0.000    0.000    0.038    0.038 merge.py:790(concat)\n",
      "        1    0.000    0.000    0.005    0.005 merge.py:854(__init__)\n",
      "        1    0.000    0.000    0.034    0.034 merge.py:986(get_result)\n",
      "       11    0.000    0.000    0.000    0.000 missing.py:559(clean_reindex_fill_method)\n",
      "       11    0.000    0.000    0.000    0.000 missing.py:61(clean_fill_method)\n",
      "       24    0.000    0.000    0.002    0.000 multi.py:808(from_arrays)\n",
      "      117    0.000    0.000    0.000    0.000 numeric.py:121(asi8)\n",
      "       72    0.000    0.000    0.000    0.000 numeric.py:126(is_all_dates)\n",
      "       58    0.001    0.000    0.001    0.000 numeric.py:2476(array_equal)\n",
      "      668    0.000    0.000    0.001    0.000 numeric.py:414(asarray)\n",
      "       24    0.000    0.000    0.000    0.000 numeric.py:484(asanyarray)\n",
      "       84    0.001    0.000    0.001    0.000 numeric.py:607(require)\n",
      "      168    0.000    0.000    0.000    0.000 numeric.py:676(<genexpr>)\n",
      "       48    0.000    0.000    0.000    0.000 numerictypes.py:942(_can_coerce_all)\n",
      "       24    0.000    0.000    0.000    0.000 numerictypes.py:964(find_common_type)\n",
      "        2    0.000    0.000    0.000    0.000 offsets.py:189(__init__)\n",
      "        2    0.000    0.000    0.000    0.000 offsets.py:195(_determine_offset)\n",
      "        2    0.000    0.000    0.000    0.000 offsets.py:200(<genexpr>)\n",
      "        1    0.000    0.000    0.000    0.000 offsets.py:303(copy)\n",
      "        1    0.000    0.000    0.000    0.000 offsets.py:407(__mul__)\n",
      "   311053    0.653    0.000   65.839    0.000 parser.py:1066(parse)\n",
      "   311053    0.401    0.000    0.401    0.000 parser.py:1347(_parsems)\n",
      "   311053    0.048    0.000    0.048    0.000 parser.py:173(__iter__)\n",
      "  4354742    1.879    0.000   25.632    0.000 parser.py:176(__next__)\n",
      "  4354742    1.591    0.000   27.223    0.000 parser.py:183(next)\n",
      "   311053    2.690    0.000   31.680    0.000 parser.py:186(split)\n",
      "  4665795    1.197    0.000    1.729    0.000 parser.py:190(isword)\n",
      "  8087378    1.920    0.000    2.696    0.000 parser.py:195(isnum)\n",
      "  1866318    0.475    0.000    0.676    0.000 parser.py:200(isspace)\n",
      "   311053    0.873    0.000    1.963    0.000 parser.py:208(__init__)\n",
      "   311053    0.378    0.000    2.824    0.000 parser.py:220(__len__)\n",
      "  3732636    1.186    0.000    1.805    0.000 parser.py:221(<genexpr>)\n",
      "   933159    0.567    0.000    0.739    0.000 parser.py:304(jump)\n",
      "   933159    0.674    0.000    0.826    0.000 parser.py:307(weekday)\n",
      "  1244212    0.692    0.000    0.830    0.000 parser.py:315(month)\n",
      "   622106    1.020    0.000    1.126    0.000 parser.py:323(hms)\n",
      "   933159    1.049    0.000    1.178    0.000 parser.py:329(ampm)\n",
      "   311053    0.174    0.000    0.231    0.000 parser.py:338(utczone)\n",
      "   311053    0.233    0.000    0.280    0.000 parser.py:341(tzoffset)\n",
      "   311053    0.068    0.000    0.068    0.000 parser.py:347(convertyear)\n",
      "   311053    0.639    0.000    0.937    0.000 parser.py:357(validate)\n",
      "   311053    0.519    0.000    0.519    0.000 parser.py:371(__init__)\n",
      "   933159    2.271    0.000    2.781    0.000 parser.py:397(append)\n",
      "   311053    0.608    0.000    0.638    0.000 parser.py:406(resolve_ymd)\n",
      "   311053    3.134    0.000   65.186    0.000 parser.py:485(parse)\n",
      "   311053    1.045    0.000    1.719    0.000 parser.py:52(__init__)\n",
      "   311053   11.303    0.000   55.520    0.000 parser.py:618(_parse)\n",
      "  4354742   16.088    0.000   23.754    0.000 parser.py:64(get_token)\n",
      "       48    0.000    0.000    0.000    0.000 parsers.py:1016(_maybe_make_multi_index_columns)\n",
      "       24    0.000    0.000    0.000    0.000 parsers.py:1024(_make_index)\n",
      "       24    0.000    0.000    0.000    0.000 parsers.py:1182(_do_date_conversions)\n",
      "       24    0.016    0.001    0.017    0.001 parsers.py:1197(__init__)\n",
      "       24    0.000    0.000    0.000    0.000 parsers.py:1280(_set_noconvert_columns)\n",
      "       24    0.001    0.000    0.832    0.035 parsers.py:1312(read)\n",
      "      333    0.000    0.000    0.000    0.000 parsers.py:1384(<genexpr>)\n",
      "       24    0.000    0.000    0.000    0.000 parsers.py:2255(_make_date_converter)\n",
      "       24    0.000    0.000    0.000    0.000 parsers.py:2293(_process_date_conversion)\n",
      "       24    0.000    0.000    0.000    0.000 parsers.py:2376(_clean_na_values)\n",
      "       24    0.002    0.000    0.895    0.037 parsers.py:272(_read)\n",
      "       24    0.002    0.000    0.896    0.037 parsers.py:416(parser_f)\n",
      "       24    0.000    0.000    0.018    0.001 parsers.py:603(__init__)\n",
      "       24    0.000    0.000    0.001    0.000 parsers.py:653(_get_options_with_defaults)\n",
      "       24    0.000    0.000    0.000    0.000 parsers.py:683(_clean_options)\n",
      "       24    0.000    0.000    0.017    0.001 parsers.py:797(_make_engine)\n",
      "       24    0.000    0.000    0.873    0.036 parsers.py:810(read)\n",
      "       24    0.000    0.000    0.000    0.000 parsers.py:829(_create_index)\n",
      "       72    0.000    0.000    0.000    0.000 parsers.py:839(_is_index_col)\n",
      "       24    0.000    0.000    0.000    0.000 parsers.py:843(_validate_usecols_arg)\n",
      "       24    0.000    0.000    0.000    0.000 parsers.py:860(_validate_parse_dates_arg)\n",
      "       24    0.000    0.000    0.000    0.000 parsers.py:883(__init__)\n",
      "       24    0.000    0.000    0.000    0.000 parsers.py:941(_has_complex_date_col)\n",
      "       24    0.000    0.000    0.000    0.000 posixpath.py:112(basename)\n",
      "       24    0.000    0.000    0.000    0.000 posixpath.py:251(expanduser)\n",
      "       72    0.000    0.000    0.000    0.000 range.py:117(_simple_new)\n",
      "       48    0.000    0.000    0.000    0.000 range.py:139(_validate_dtype)\n",
      "       24    0.000    0.000    0.000    0.000 range.py:158(_get_data_as_items)\n",
      "       24    0.000    0.000    0.000    0.000 range.py:229(_shallow_copy)\n",
      "       24    0.000    0.000    0.000    0.000 range.py:266(equals)\n",
      "       72    0.000    0.000    0.001    0.000 range.py:42(__new__)\n",
      "      693    0.001    0.000    0.001    0.000 range.py:435(__len__)\n",
      "       96    0.000    0.000    0.000    0.000 range.py:58(_ensure_int)\n",
      "       72    0.001    0.000    0.003    0.000 series.py:120(__init__)\n",
      "       48    0.000    0.000    0.002    0.000 series.py:236(from_array)\n",
      "       72    0.000    0.000    0.000    0.000 series.py:270(_set_axis)\n",
      "      333    0.001    0.000    0.005    0.000 series.py:2787(_sanitize_array)\n",
      "      333    0.000    0.000    0.003    0.000 series.py:2804(_try_cast)\n",
      "       72    0.000    0.000    0.000    0.000 series.py:292(_set_subtyp)\n",
      "       96    0.000    0.000    0.000    0.000 series.py:302(name)\n",
      "       72    0.000    0.000    0.000    0.000 series.py:306(name)\n",
      "       72    0.000    0.000    0.000    0.000 series.py:366(_values)\n",
      "       24    0.000    0.000    0.000    0.000 shape_base.py:61(atleast_2d)\n",
      "       24    0.000    0.000   81.860    3.411 tools.py:169(to_datetime)\n",
      "       24    0.001    0.000   81.859    3.411 tools.py:294(_to_datetime)\n",
      "       24    0.000    0.000   81.856    3.411 tools.py:303(_convert_listlike)\n",
      "       48    0.000    0.000    0.001    0.000 urlparse.py:137(urlparse)\n",
      "       48    0.000    0.000    0.000    0.000 urlparse.py:168(urlsplit)\n",
      "        1    0.000    0.000    0.000    0.000 urlparse.py:68(clear_cache)\n",
      "  1244212    0.370    0.000    0.370    0.000 {_locale.setlocale}\n",
      "       48    0.000    0.000    0.000    0.000 {all}\n",
      "        2    0.000    0.000    0.000    0.000 {any}\n",
      "      322    0.000    0.000    0.000    0.000 {built-in method __new__ of type object at 0x100186920}\n",
      "       96    0.000    0.000    0.000    0.000 {callable}\n",
      "5913431/5913407    1.046    0.000    1.046    0.000 {getattr}\n",
      "   935659    0.217    0.000    0.217    0.000 {hasattr}\n",
      "      573    0.000    0.000    0.000    0.000 {hash}\n",
      "       24    0.000    0.000    0.000    0.000 {id}\n",
      "  2191508    0.752    0.000    2.053    0.000 {isinstance}\n",
      "     2656    0.001    0.000    0.001    0.000 {issubclass}\n",
      "       72    0.000    0.000    0.000    0.000 {iter}\n",
      "7471558/7470872    0.927    0.000    3.752    0.000 {len}\n",
      "      717    0.002    0.000    0.002    0.000 {max}\n",
      "       72    0.000    0.000    0.001    0.000 {method 'add' of 'pandas.lib.BlockPlacement' objects}\n",
      "       24    0.000    0.000    0.000    0.000 {method 'add' of 'set' objects}\n",
      "       51    0.000    0.000    0.000    0.000 {method 'all' of 'numpy.ndarray' objects}\n",
      "      115    0.000    0.000    0.001    0.000 {method 'any' of 'numpy.ndarray' objects}\n",
      "  3423904    0.738    0.000    0.738    0.000 {method 'append' of 'list' objects}\n",
      "       24    0.000    0.000    0.000    0.000 {method 'append' of 'pandas.lib.BlockPlacement' objects}\n",
      "       24    0.000    0.000    0.000    0.000 {method 'astype' of 'numpy.ndarray' objects}\n",
      "      121    0.000    0.000    0.000    0.000 {method 'clear' of 'dict' objects}\n",
      "       24    0.000    0.000    0.000    0.000 {method 'clear_mapping' of 'pandas.index.IndexEngine' objects}\n",
      "       72    0.000    0.000    0.000    0.000 {method 'copy' of 'dict' objects}\n",
      "      120    0.029    0.000    0.029    0.000 {method 'copy' of 'numpy.ndarray' objects}\n",
      "       24    0.000    0.000    0.000    0.000 {method 'cumsum' of 'numpy.ndarray' objects}\n",
      "   311053    0.593    0.000    0.593    0.000 {method 'decode' of 'str' objects}\n",
      "        1    0.000    0.000    0.000    0.000 {method 'disable' of '_lsprof.Profiler' objects}\n",
      "   622106    0.086    0.000    0.086    0.000 {method 'end' of '_sre.SRE_Match' objects}\n",
      "       96    0.000    0.000    0.000    0.000 {method 'endswith' of 'str' objects}\n",
      "       59    0.000    0.000    0.000    0.000 {method 'extend' of 'list' objects}\n",
      "      170    0.000    0.000    0.000    0.000 {method 'fill' of 'numpy.ndarray' objects}\n",
      "       24    0.000    0.000    0.000    0.000 {method 'find' of 'str' objects}\n",
      "        1    0.000    0.000    0.000    0.000 {method 'findall' of '_sre.SRE_Pattern' objects}\n",
      "      285    0.000    0.000    0.000    0.000 {method 'format' of 'str' objects}\n",
      "  3112144    0.474    0.000    0.474    0.000 {method 'get' of 'dict' objects}\n",
      "       11    0.001    0.000    0.001    0.000 {method 'get_indexer' of 'pandas.index.DatetimeEngine' objects}\n",
      "      144    0.000    0.000    0.000    0.000 {method 'get_loc' of 'pandas.index.IndexEngine' objects}\n",
      "  4665795    0.532    0.000    0.532    0.000 {method 'isalpha' of 'unicode' objects}\n",
      "  9020537    0.876    0.000    0.876    0.000 {method 'isdigit' of 'unicode' objects}\n",
      "  1866318    0.202    0.000    0.202    0.000 {method 'isspace' of 'unicode' objects}\n",
      "       75    0.000    0.000    0.000    0.000 {method 'items' of 'dict' objects}\n",
      "      289    0.000    0.000    0.000    0.000 {method 'iteritems' of 'dict' objects}\n",
      "        2    0.000    0.000    0.000    0.000 {method 'lower' of 'str' objects}\n",
      "  3421583    0.576    0.000    0.576    0.000 {method 'lower' of 'unicode' objects}\n",
      "  1244212    0.836    0.000    0.836    0.000 {method 'match' of '_sre.SRE_Pattern' objects}\n",
      "       83    0.000    0.000    0.000    0.000 {method 'nonzero' of 'numpy.ndarray' objects}\n",
      "      476    0.000    0.000    0.000    0.000 {method 'pop' of 'dict' objects}\n",
      "  1866318    0.709    0.000    0.709    0.000 {method 'pop' of 'list' objects}\n",
      "       72    0.000    0.000    0.000    0.000 {method 'ravel' of 'numpy.ndarray' objects}\n",
      "  7465272    1.326    0.000    1.326    0.000 {method 'read' of '_io.StringIO' objects}\n",
      "       24    0.831    0.035    0.831    0.035 {method 'read' of 'pandas.parser.TextReader' objects}\n",
      "      201    0.001    0.000    0.001    0.000 {method 'reduce' of 'numpy.ufunc' objects}\n",
      "   622106    1.509    0.000    1.509    0.000 {method 'replace' of 'datetime.datetime' objects}\n",
      "       24    0.000    0.000    0.000    0.000 {method 'replace' of 'str' objects}\n",
      "       24    0.000    0.000    0.000    0.000 {method 'rfind' of 'str' objects}\n",
      "       26    0.000    0.000    0.000    0.000 {method 'search' of '_sre.SRE_Pattern' objects}\n",
      "       25    0.000    0.000    0.000    0.000 {method 'startswith' of 'str' objects}\n",
      "  1244212    0.189    0.000    0.189    0.000 {method 'translate' of 'str' objects}\n",
      "       48    0.000    0.000    0.000    0.000 {method 'transpose' of 'numpy.ndarray' objects}\n",
      "       49    0.000    0.000    0.000    0.000 {method 'update' of 'dict' objects}\n",
      "       85    0.000    0.000    0.000    0.000 {method 'upper' of 'str' objects}\n",
      "      110    0.000    0.000    0.000    0.000 {method 'values' of 'dict' objects}\n",
      "      552    0.000    0.000    0.000    0.000 {method 'view' of 'numpy.ndarray' objects}\n",
      "       56    0.000    0.000    0.000    0.000 {min}\n",
      "      262    0.000    0.000    0.000    0.000 {numpy.core.multiarray.arange}\n",
      "     1017    0.001    0.000    0.001    0.000 {numpy.core.multiarray.array}\n",
      "       24    0.000    0.000    0.000    0.000 {numpy.core.multiarray.bincount}\n",
      "       49    0.000    0.000    0.000    0.000 {numpy.core.multiarray.concatenate}\n",
      "      281    0.001    0.000    0.001    0.000 {numpy.core.multiarray.empty}\n",
      "       48    0.000    0.000    0.000    0.000 {numpy.core.multiarray.zeros}\n",
      "      139    0.000    0.000    0.000    0.000 {pandas.algos.ensure_int64}\n",
      "       72    0.000    0.000    0.000    0.000 {pandas.algos.ensure_object}\n",
      "       11    0.000    0.000    0.000    0.000 {pandas.algos.ensure_platform_int}\n",
      "        9    0.001    0.000    0.001    0.000 {pandas.algos.outer_join_indexer_int64}\n",
      "       24    0.000    0.000    0.000    0.000 {pandas.algos.take_1d_int64_int64}\n",
      "        2    0.000    0.000    0.000    0.000 {pandas.algos.take_2d_axis0_float64_float64}\n",
      "        2    0.000    0.000    0.000    0.000 {pandas.algos.take_2d_axis0_int64_int64}\n",
      "       12    0.000    0.000    0.000    0.000 {pandas.algos.take_2d_axis1_float64_float64}\n",
      "       12    0.000    0.000    0.000    0.000 {pandas.algos.take_2d_axis1_int64_float64}\n",
      "       24    0.000    0.000    0.000    0.000 {pandas.lib.array_equivalent_object}\n",
      "       48    0.000    0.000    0.000    0.000 {pandas.lib.checknull}\n",
      "       48    0.002    0.000    0.002    0.000 {pandas.lib.clean_index_list}\n",
      "       35    0.000    0.000    0.000    0.000 {pandas.lib.get_blkno_indexers}\n",
      "      153    0.001    0.000    0.001    0.000 {pandas.lib.infer_dtype}\n",
      "       24    0.000    0.000    0.000    0.000 {pandas.lib.is_bool}\n",
      "       52    0.000    0.000    0.000    0.000 {pandas.lib.is_float}\n",
      "       96    0.000    0.000    0.000    0.000 {pandas.lib.is_integer}\n",
      "      240    0.000    0.000    0.000    0.000 {pandas.lib.isscalar}\n",
      "       48    0.000    0.000    0.000    0.000 {pandas.lib.list_to_object_array}\n",
      "      216    0.000    0.000    0.000    0.000 {pandas.lib.values_from_object}\n",
      "       24    5.263    0.219   81.856    3.411 {pandas.tslib.array_to_datetime}\n",
      "       78    0.000    0.000    0.000    0.000 {pandas.tslib.get_timezone}\n",
      "       33    0.000    0.000    0.000    0.000 {pandas.tslib.maybe_get_tz}\n",
      "        2    0.000    0.000    0.000    0.000 {pandas.tslib.unique_deltas}\n",
      "       96    0.000    0.000    0.000    0.000 {range}\n",
      "  3421583    1.090    0.000    1.090    0.000 {setattr}\n",
      "       24    0.000    0.000    0.000    0.000 {sorted}\n",
      "   311126    0.642    0.000    2.447    0.000 {sum}\n",
      "\n",
      "\n"
     ]
    }
   ],
   "source": [
    "import cProfile\n",
    "\n",
    "cProfile.run('read_dir(filenames)')"
   ]
  },
  {
   "cell_type": "code",
   "execution_count": 20,
   "metadata": {
    "collapsed": false
   },
   "outputs": [
    {
     "name": "stdout",
     "output_type": "stream",
     "text": [
      "Overwriting utils.py\n"
     ]
    }
   ],
   "source": [
    "%%writefile utils.py\n",
    "import pandas as pd\n",
    "import os\n",
    "\n",
    "def read_csv(filename):\n",
    "    df = pd.read_csv(filename, skiprows=8)\n",
    "    df.rename(columns={'# timestamp': 'timestamp'}, inplace=True)\n",
    "    #df.timestamp = pd.to_datetime(df.timestamp) #hold off for now...\n",
    "    df.set_index('timestamp', inplace=True)\n",
    "    prefix = os.path.basename(filename).replace('.csv','')\n",
    "    df.columns = [ \"{}:{}\".format(prefix, x) for x in df.columns ] \n",
    "    return df\n",
    "\n",
    "def read_dir(filenames):\n",
    "    df = pd.concat([ read_csv(x) for x in filenames ], axis=1)\n",
    "    df.index = pd.to_datetime(df.index)\n",
    "    return df"
   ]
  },
  {
   "cell_type": "code",
   "execution_count": 21,
   "metadata": {
    "collapsed": false
   },
   "outputs": [
    {
     "name": "stdout",
     "output_type": "stream",
     "text": [
      "The autoreload extension is already loaded. To reload it, use:\n",
      "  %reload_ext autoreload\n"
     ]
    }
   ],
   "source": [
    "%load_ext autoreload"
   ]
  },
  {
   "cell_type": "code",
   "execution_count": 22,
   "metadata": {
    "collapsed": false
   },
   "outputs": [
    {
     "data": {
      "text/plain": [
       "(12961, 285)"
      ]
     },
     "execution_count": 22,
     "metadata": {},
     "output_type": "execute_result"
    }
   ],
   "source": [
    "%autoreload 2\n",
    "import utils\n",
    "\n",
    "utils.read_dir(filenames).shape"
   ]
  },
  {
   "cell_type": "code",
   "execution_count": null,
   "metadata": {
    "collapsed": true
   },
   "outputs": [],
   "source": []
  }
 ],
 "metadata": {
  "kernelspec": {
   "display_name": "Python 2",
   "language": "python",
   "name": "python2"
  },
  "language_info": {
   "codemirror_mode": {
    "name": "ipython",
    "version": 2
   },
   "file_extension": ".py",
   "mimetype": "text/x-python",
   "name": "python",
   "nbconvert_exporter": "python",
   "pygments_lexer": "ipython2",
   "version": "2.7.11"
  }
 },
 "nbformat": 4,
 "nbformat_minor": 0
}
