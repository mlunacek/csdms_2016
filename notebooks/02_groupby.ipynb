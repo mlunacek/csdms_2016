{
 "cells": [
  {
   "cell_type": "markdown",
   "metadata": {},
   "source": [
    "# Group by "
   ]
  },
  {
   "cell_type": "markdown",
   "metadata": {},
   "source": [
    "Let's take our hvac data and look at the mean power for houses with and without solar."
   ]
  },
  {
   "cell_type": "code",
   "execution_count": 2,
   "metadata": {
    "collapsed": false
   },
   "outputs": [
    {
     "data": {
      "text/html": [
       "<div>\n",
       "<table border=\"1\" class=\"dataframe\">\n",
       "  <thead>\n",
       "    <tr style=\"text-align: right;\">\n",
       "      <th></th>\n",
       "      <th>triplex_meter_0</th>\n",
       "      <th>triplex_meter_1</th>\n",
       "      <th>triplex_meter_2</th>\n",
       "      <th>triplex_meter_3</th>\n",
       "      <th>triplex_meter_4</th>\n",
       "      <th>triplex_meter_5</th>\n",
       "      <th>triplex_meter_6</th>\n",
       "      <th>triplex_meter_7</th>\n",
       "      <th>triplex_meter_8</th>\n",
       "      <th>triplex_meter_9</th>\n",
       "      <th>triplex_meter_10</th>\n",
       "      <th>triplex_meter_11</th>\n",
       "      <th>triplex_meter_12</th>\n",
       "      <th>triplex_meter_13</th>\n",
       "      <th>triplex_meter_14</th>\n",
       "      <th>triplex_meter_15</th>\n",
       "      <th>triplex_meter_16</th>\n",
       "      <th>triplex_meter_17</th>\n",
       "      <th>triplex_meter_18</th>\n",
       "      <th>triplex_meter_19</th>\n",
       "    </tr>\n",
       "    <tr>\n",
       "      <th>timestamp</th>\n",
       "      <th></th>\n",
       "      <th></th>\n",
       "      <th></th>\n",
       "      <th></th>\n",
       "      <th></th>\n",
       "      <th></th>\n",
       "      <th></th>\n",
       "      <th></th>\n",
       "      <th></th>\n",
       "      <th></th>\n",
       "      <th></th>\n",
       "      <th></th>\n",
       "      <th></th>\n",
       "      <th></th>\n",
       "      <th></th>\n",
       "      <th></th>\n",
       "      <th></th>\n",
       "      <th></th>\n",
       "      <th></th>\n",
       "      <th></th>\n",
       "    </tr>\n",
       "  </thead>\n",
       "  <tbody>\n",
       "    <tr>\n",
       "      <th>2013-07-01 00:00:00</th>\n",
       "      <td>510.912</td>\n",
       "      <td>510.912</td>\n",
       "      <td>510.912</td>\n",
       "      <td>547.924</td>\n",
       "      <td>510.912</td>\n",
       "      <td>510.912</td>\n",
       "      <td>547.924</td>\n",
       "      <td>547.924</td>\n",
       "      <td>581.637</td>\n",
       "      <td>581.637</td>\n",
       "      <td>384.146</td>\n",
       "      <td>384.146</td>\n",
       "      <td>384.146</td>\n",
       "      <td>531.494</td>\n",
       "      <td>531.494</td>\n",
       "      <td>531.494</td>\n",
       "      <td>530.845</td>\n",
       "      <td>530.845</td>\n",
       "      <td>271.123</td>\n",
       "      <td>383.677</td>\n",
       "    </tr>\n",
       "    <tr>\n",
       "      <th>2013-07-01 00:01:00</th>\n",
       "      <td>510.912</td>\n",
       "      <td>510.912</td>\n",
       "      <td>510.912</td>\n",
       "      <td>547.924</td>\n",
       "      <td>510.912</td>\n",
       "      <td>510.912</td>\n",
       "      <td>547.924</td>\n",
       "      <td>547.924</td>\n",
       "      <td>581.637</td>\n",
       "      <td>581.637</td>\n",
       "      <td>384.146</td>\n",
       "      <td>384.146</td>\n",
       "      <td>384.146</td>\n",
       "      <td>531.494</td>\n",
       "      <td>531.494</td>\n",
       "      <td>531.494</td>\n",
       "      <td>530.845</td>\n",
       "      <td>530.845</td>\n",
       "      <td>271.123</td>\n",
       "      <td>383.677</td>\n",
       "    </tr>\n",
       "    <tr>\n",
       "      <th>2013-07-01 00:02:00</th>\n",
       "      <td>510.912</td>\n",
       "      <td>510.912</td>\n",
       "      <td>510.912</td>\n",
       "      <td>547.924</td>\n",
       "      <td>510.912</td>\n",
       "      <td>510.912</td>\n",
       "      <td>547.924</td>\n",
       "      <td>547.924</td>\n",
       "      <td>581.637</td>\n",
       "      <td>581.637</td>\n",
       "      <td>384.146</td>\n",
       "      <td>384.146</td>\n",
       "      <td>384.146</td>\n",
       "      <td>531.494</td>\n",
       "      <td>531.494</td>\n",
       "      <td>531.494</td>\n",
       "      <td>530.845</td>\n",
       "      <td>530.845</td>\n",
       "      <td>271.123</td>\n",
       "      <td>383.677</td>\n",
       "    </tr>\n",
       "    <tr>\n",
       "      <th>2013-07-01 00:03:00</th>\n",
       "      <td>510.912</td>\n",
       "      <td>510.912</td>\n",
       "      <td>510.912</td>\n",
       "      <td>547.924</td>\n",
       "      <td>510.912</td>\n",
       "      <td>510.912</td>\n",
       "      <td>547.924</td>\n",
       "      <td>547.924</td>\n",
       "      <td>581.637</td>\n",
       "      <td>581.637</td>\n",
       "      <td>384.146</td>\n",
       "      <td>384.146</td>\n",
       "      <td>384.146</td>\n",
       "      <td>531.494</td>\n",
       "      <td>531.494</td>\n",
       "      <td>531.494</td>\n",
       "      <td>530.845</td>\n",
       "      <td>530.845</td>\n",
       "      <td>271.123</td>\n",
       "      <td>383.677</td>\n",
       "    </tr>\n",
       "    <tr>\n",
       "      <th>2013-07-01 00:04:00</th>\n",
       "      <td>510.911</td>\n",
       "      <td>510.911</td>\n",
       "      <td>510.911</td>\n",
       "      <td>547.922</td>\n",
       "      <td>510.911</td>\n",
       "      <td>510.911</td>\n",
       "      <td>547.922</td>\n",
       "      <td>547.922</td>\n",
       "      <td>581.645</td>\n",
       "      <td>581.645</td>\n",
       "      <td>384.151</td>\n",
       "      <td>384.151</td>\n",
       "      <td>384.151</td>\n",
       "      <td>384.151</td>\n",
       "      <td>531.501</td>\n",
       "      <td>531.501</td>\n",
       "      <td>530.849</td>\n",
       "      <td>530.849</td>\n",
       "      <td>271.125</td>\n",
       "      <td>383.680</td>\n",
       "    </tr>\n",
       "  </tbody>\n",
       "</table>\n",
       "</div>"
      ],
      "text/plain": [
       "                     triplex_meter_0  triplex_meter_1  triplex_meter_2  \\\n",
       "timestamp                                                                \n",
       "2013-07-01 00:00:00          510.912          510.912          510.912   \n",
       "2013-07-01 00:01:00          510.912          510.912          510.912   \n",
       "2013-07-01 00:02:00          510.912          510.912          510.912   \n",
       "2013-07-01 00:03:00          510.912          510.912          510.912   \n",
       "2013-07-01 00:04:00          510.911          510.911          510.911   \n",
       "\n",
       "                     triplex_meter_3  triplex_meter_4  triplex_meter_5  \\\n",
       "timestamp                                                                \n",
       "2013-07-01 00:00:00          547.924          510.912          510.912   \n",
       "2013-07-01 00:01:00          547.924          510.912          510.912   \n",
       "2013-07-01 00:02:00          547.924          510.912          510.912   \n",
       "2013-07-01 00:03:00          547.924          510.912          510.912   \n",
       "2013-07-01 00:04:00          547.922          510.911          510.911   \n",
       "\n",
       "                     triplex_meter_6  triplex_meter_7  triplex_meter_8  \\\n",
       "timestamp                                                                \n",
       "2013-07-01 00:00:00          547.924          547.924          581.637   \n",
       "2013-07-01 00:01:00          547.924          547.924          581.637   \n",
       "2013-07-01 00:02:00          547.924          547.924          581.637   \n",
       "2013-07-01 00:03:00          547.924          547.924          581.637   \n",
       "2013-07-01 00:04:00          547.922          547.922          581.645   \n",
       "\n",
       "                     triplex_meter_9  triplex_meter_10  triplex_meter_11  \\\n",
       "timestamp                                                                  \n",
       "2013-07-01 00:00:00          581.637           384.146           384.146   \n",
       "2013-07-01 00:01:00          581.637           384.146           384.146   \n",
       "2013-07-01 00:02:00          581.637           384.146           384.146   \n",
       "2013-07-01 00:03:00          581.637           384.146           384.146   \n",
       "2013-07-01 00:04:00          581.645           384.151           384.151   \n",
       "\n",
       "                     triplex_meter_12  triplex_meter_13  triplex_meter_14  \\\n",
       "timestamp                                                                   \n",
       "2013-07-01 00:00:00           384.146           531.494           531.494   \n",
       "2013-07-01 00:01:00           384.146           531.494           531.494   \n",
       "2013-07-01 00:02:00           384.146           531.494           531.494   \n",
       "2013-07-01 00:03:00           384.146           531.494           531.494   \n",
       "2013-07-01 00:04:00           384.151           384.151           531.501   \n",
       "\n",
       "                     triplex_meter_15  triplex_meter_16  triplex_meter_17  \\\n",
       "timestamp                                                                   \n",
       "2013-07-01 00:00:00           531.494           530.845           530.845   \n",
       "2013-07-01 00:01:00           531.494           530.845           530.845   \n",
       "2013-07-01 00:02:00           531.494           530.845           530.845   \n",
       "2013-07-01 00:03:00           531.494           530.845           530.845   \n",
       "2013-07-01 00:04:00           531.501           530.849           530.849   \n",
       "\n",
       "                     triplex_meter_18  triplex_meter_19  \n",
       "timestamp                                                \n",
       "2013-07-01 00:00:00           271.123           383.677  \n",
       "2013-07-01 00:01:00           271.123           383.677  \n",
       "2013-07-01 00:02:00           271.123           383.677  \n",
       "2013-07-01 00:03:00           271.123           383.677  \n",
       "2013-07-01 00:04:00           271.125           383.680  "
      ]
     },
     "execution_count": 2,
     "metadata": {},
     "output_type": "execute_result"
    }
   ],
   "source": [
    "import utils\n",
    "\n",
    "df = utils.read_csv('data/measured_real_power.csv')\n",
    "df.head()"
   ]
  },
  {
   "cell_type": "markdown",
   "metadata": {},
   "source": [
    "## Create the base table "
   ]
  },
  {
   "cell_type": "markdown",
   "metadata": {},
   "source": [
    "We just want the mean values by **triplex_meter**."
   ]
  },
  {
   "cell_type": "code",
   "execution_count": 3,
   "metadata": {
    "collapsed": false
   },
   "outputs": [
    {
     "data": {
      "text/plain": [
       "triplex_meter_0     197.401486\n",
       "triplex_meter_1      85.223124\n",
       "triplex_meter_2    1225.211889\n",
       "triplex_meter_3    1018.304115\n",
       "triplex_meter_4    1173.583409\n",
       "dtype: float64"
      ]
     },
     "execution_count": 3,
     "metadata": {},
     "output_type": "execute_result"
    }
   ],
   "source": [
    "mean_power = df.mean()\n",
    "mean_power.head()"
   ]
  },
  {
   "cell_type": "code",
   "execution_count": 4,
   "metadata": {
    "collapsed": false
   },
   "outputs": [
    {
     "data": {
      "text/plain": [
       "pandas.core.series.Series"
      ]
     },
     "execution_count": 4,
     "metadata": {},
     "output_type": "execute_result"
    }
   ],
   "source": [
    "type(mean_power)"
   ]
  },
  {
   "cell_type": "code",
   "execution_count": 5,
   "metadata": {
    "collapsed": false
   },
   "outputs": [
    {
     "data": {
      "text/plain": [
       "pandas.core.frame.DataFrame"
      ]
     },
     "execution_count": 5,
     "metadata": {},
     "output_type": "execute_result"
    }
   ],
   "source": [
    "mean_power = mean_power.reset_index()\n",
    "mean_power.columns = ['house', 'power']\n",
    "type(mean_power)"
   ]
  },
  {
   "cell_type": "code",
   "execution_count": 6,
   "metadata": {
    "collapsed": false
   },
   "outputs": [
    {
     "data": {
      "text/html": [
       "<div>\n",
       "<table border=\"1\" class=\"dataframe\">\n",
       "  <thead>\n",
       "    <tr style=\"text-align: right;\">\n",
       "      <th></th>\n",
       "      <th>house</th>\n",
       "      <th>power</th>\n",
       "    </tr>\n",
       "  </thead>\n",
       "  <tbody>\n",
       "    <tr>\n",
       "      <th>0</th>\n",
       "      <td>triplex_meter_0</td>\n",
       "      <td>197.401486</td>\n",
       "    </tr>\n",
       "    <tr>\n",
       "      <th>1</th>\n",
       "      <td>triplex_meter_1</td>\n",
       "      <td>85.223124</td>\n",
       "    </tr>\n",
       "    <tr>\n",
       "      <th>2</th>\n",
       "      <td>triplex_meter_2</td>\n",
       "      <td>1225.211889</td>\n",
       "    </tr>\n",
       "    <tr>\n",
       "      <th>3</th>\n",
       "      <td>triplex_meter_3</td>\n",
       "      <td>1018.304115</td>\n",
       "    </tr>\n",
       "    <tr>\n",
       "      <th>4</th>\n",
       "      <td>triplex_meter_4</td>\n",
       "      <td>1173.583409</td>\n",
       "    </tr>\n",
       "  </tbody>\n",
       "</table>\n",
       "</div>"
      ],
      "text/plain": [
       "             house        power\n",
       "0  triplex_meter_0   197.401486\n",
       "1  triplex_meter_1    85.223124\n",
       "2  triplex_meter_2  1225.211889\n",
       "3  triplex_meter_3  1018.304115\n",
       "4  triplex_meter_4  1173.583409"
      ]
     },
     "execution_count": 6,
     "metadata": {},
     "output_type": "execute_result"
    }
   ],
   "source": [
    "mean_power.head()"
   ]
  },
  {
   "cell_type": "markdown",
   "metadata": {},
   "source": [
    "## Read the relationship `DataFrame` "
   ]
  },
  {
   "cell_type": "code",
   "execution_count": 7,
   "metadata": {
    "collapsed": false
   },
   "outputs": [
    {
     "data": {
      "text/html": [
       "<div>\n",
       "<table border=\"1\" class=\"dataframe\">\n",
       "  <thead>\n",
       "    <tr style=\"text-align: right;\">\n",
       "      <th></th>\n",
       "      <th>triplex_meter</th>\n",
       "      <th>type</th>\n",
       "    </tr>\n",
       "  </thead>\n",
       "  <tbody>\n",
       "    <tr>\n",
       "      <th>0</th>\n",
       "      <td>triplex_meter_11</td>\n",
       "      <td>nosolar</td>\n",
       "    </tr>\n",
       "    <tr>\n",
       "      <th>1</th>\n",
       "      <td>triplex_meter_18</td>\n",
       "      <td>nosolar</td>\n",
       "    </tr>\n",
       "    <tr>\n",
       "      <th>2</th>\n",
       "      <td>triplex_meter_19</td>\n",
       "      <td>solar</td>\n",
       "    </tr>\n",
       "    <tr>\n",
       "      <th>3</th>\n",
       "      <td>triplex_meter_10</td>\n",
       "      <td>solar</td>\n",
       "    </tr>\n",
       "    <tr>\n",
       "      <th>4</th>\n",
       "      <td>triplex_meter_17</td>\n",
       "      <td>solar</td>\n",
       "    </tr>\n",
       "  </tbody>\n",
       "</table>\n",
       "</div>"
      ],
      "text/plain": [
       "      triplex_meter     type\n",
       "0  triplex_meter_11  nosolar\n",
       "1  triplex_meter_18  nosolar\n",
       "2  triplex_meter_19    solar\n",
       "3  triplex_meter_10    solar\n",
       "4  triplex_meter_17    solar"
      ]
     },
     "execution_count": 7,
     "metadata": {},
     "output_type": "execute_result"
    }
   ],
   "source": [
    "import pandas as pd\n",
    "\n",
    "housedf = pd.read_csv('data/triplex_meter_solar.csv')\n",
    "housedf.head()"
   ]
  },
  {
   "cell_type": "markdown",
   "metadata": {},
   "source": [
    "## Merge "
   ]
  },
  {
   "cell_type": "code",
   "execution_count": 8,
   "metadata": {
    "collapsed": false
   },
   "outputs": [
    {
     "ename": "MergeError",
     "evalue": "No common columns to perform merge on",
     "output_type": "error",
     "traceback": [
      "\u001b[0;31m---------------------------------------------------------------------------\u001b[0m",
      "\u001b[0;31mMergeError\u001b[0m                                Traceback (most recent call last)",
      "\u001b[0;32m<ipython-input-8-86162be7534d>\u001b[0m in \u001b[0;36m<module>\u001b[0;34m()\u001b[0m\n\u001b[0;32m----> 1\u001b[0;31m \u001b[0mpd\u001b[0m\u001b[0;34m.\u001b[0m\u001b[0mmerge\u001b[0m\u001b[0;34m(\u001b[0m\u001b[0mmean_power\u001b[0m\u001b[0;34m,\u001b[0m \u001b[0mhousedf\u001b[0m\u001b[0;34m)\u001b[0m\u001b[0;34m.\u001b[0m\u001b[0mhead\u001b[0m\u001b[0;34m(\u001b[0m\u001b[0;34m)\u001b[0m\u001b[0;34m\u001b[0m\u001b[0m\n\u001b[0m",
      "\u001b[0;32m/Users/mlunacek/anaconda/envs/csdms/lib/python2.7/site-packages/pandas/tools/merge.pyc\u001b[0m in \u001b[0;36mmerge\u001b[0;34m(left, right, how, on, left_on, right_on, left_index, right_index, sort, suffixes, copy, indicator)\u001b[0m\n\u001b[1;32m     36\u001b[0m                          \u001b[0mright_on\u001b[0m\u001b[0;34m=\u001b[0m\u001b[0mright_on\u001b[0m\u001b[0;34m,\u001b[0m \u001b[0mleft_index\u001b[0m\u001b[0;34m=\u001b[0m\u001b[0mleft_index\u001b[0m\u001b[0;34m,\u001b[0m\u001b[0;34m\u001b[0m\u001b[0m\n\u001b[1;32m     37\u001b[0m                          \u001b[0mright_index\u001b[0m\u001b[0;34m=\u001b[0m\u001b[0mright_index\u001b[0m\u001b[0;34m,\u001b[0m \u001b[0msort\u001b[0m\u001b[0;34m=\u001b[0m\u001b[0msort\u001b[0m\u001b[0;34m,\u001b[0m \u001b[0msuffixes\u001b[0m\u001b[0;34m=\u001b[0m\u001b[0msuffixes\u001b[0m\u001b[0;34m,\u001b[0m\u001b[0;34m\u001b[0m\u001b[0m\n\u001b[0;32m---> 38\u001b[0;31m                          copy=copy, indicator=indicator)\n\u001b[0m\u001b[1;32m     39\u001b[0m     \u001b[0;32mreturn\u001b[0m \u001b[0mop\u001b[0m\u001b[0;34m.\u001b[0m\u001b[0mget_result\u001b[0m\u001b[0;34m(\u001b[0m\u001b[0;34m)\u001b[0m\u001b[0;34m\u001b[0m\u001b[0m\n\u001b[1;32m     40\u001b[0m \u001b[0;32mif\u001b[0m \u001b[0m__debug__\u001b[0m\u001b[0;34m:\u001b[0m\u001b[0;34m\u001b[0m\u001b[0m\n",
      "\u001b[0;32m/Users/mlunacek/anaconda/envs/csdms/lib/python2.7/site-packages/pandas/tools/merge.pyc\u001b[0m in \u001b[0;36m__init__\u001b[0;34m(self, left, right, how, on, left_on, right_on, axis, left_index, right_index, sort, suffixes, copy, indicator)\u001b[0m\n\u001b[1;32m    208\u001b[0m         (self.left_join_keys,\n\u001b[1;32m    209\u001b[0m          \u001b[0mself\u001b[0m\u001b[0;34m.\u001b[0m\u001b[0mright_join_keys\u001b[0m\u001b[0;34m,\u001b[0m\u001b[0;34m\u001b[0m\u001b[0m\n\u001b[0;32m--> 210\u001b[0;31m          self.join_names) = self._get_merge_keys()\n\u001b[0m\u001b[1;32m    211\u001b[0m \u001b[0;34m\u001b[0m\u001b[0m\n\u001b[1;32m    212\u001b[0m     \u001b[0;32mdef\u001b[0m \u001b[0mget_result\u001b[0m\u001b[0;34m(\u001b[0m\u001b[0mself\u001b[0m\u001b[0;34m)\u001b[0m\u001b[0;34m:\u001b[0m\u001b[0;34m\u001b[0m\u001b[0m\n",
      "\u001b[0;32m/Users/mlunacek/anaconda/envs/csdms/lib/python2.7/site-packages/pandas/tools/merge.pyc\u001b[0m in \u001b[0;36m_get_merge_keys\u001b[0;34m(self)\u001b[0m\n\u001b[1;32m    405\u001b[0m         \u001b[0mleft_keys\u001b[0m\u001b[0;34m,\u001b[0m \u001b[0mright_keys\u001b[0m\u001b[0;34m\u001b[0m\u001b[0m\n\u001b[1;32m    406\u001b[0m         \"\"\"\n\u001b[0;32m--> 407\u001b[0;31m         \u001b[0mself\u001b[0m\u001b[0;34m.\u001b[0m\u001b[0m_validate_specification\u001b[0m\u001b[0;34m(\u001b[0m\u001b[0;34m)\u001b[0m\u001b[0;34m\u001b[0m\u001b[0m\n\u001b[0m\u001b[1;32m    408\u001b[0m \u001b[0;34m\u001b[0m\u001b[0m\n\u001b[1;32m    409\u001b[0m         \u001b[0mleft_keys\u001b[0m \u001b[0;34m=\u001b[0m \u001b[0;34m[\u001b[0m\u001b[0;34m]\u001b[0m\u001b[0;34m\u001b[0m\u001b[0m\n",
      "\u001b[0;32m/Users/mlunacek/anaconda/envs/csdms/lib/python2.7/site-packages/pandas/tools/merge.pyc\u001b[0m in \u001b[0;36m_validate_specification\u001b[0;34m(self)\u001b[0m\n\u001b[1;32m    497\u001b[0m                     self.right.columns)\n\u001b[1;32m    498\u001b[0m                 \u001b[0;32mif\u001b[0m \u001b[0mlen\u001b[0m\u001b[0;34m(\u001b[0m\u001b[0mcommon_cols\u001b[0m\u001b[0;34m)\u001b[0m \u001b[0;34m==\u001b[0m \u001b[0;36m0\u001b[0m\u001b[0;34m:\u001b[0m\u001b[0;34m\u001b[0m\u001b[0m\n\u001b[0;32m--> 499\u001b[0;31m                     \u001b[0;32mraise\u001b[0m \u001b[0mMergeError\u001b[0m\u001b[0;34m(\u001b[0m\u001b[0;34m'No common columns to perform merge on'\u001b[0m\u001b[0;34m)\u001b[0m\u001b[0;34m\u001b[0m\u001b[0m\n\u001b[0m\u001b[1;32m    500\u001b[0m                 \u001b[0;32mif\u001b[0m \u001b[0;32mnot\u001b[0m \u001b[0mcommon_cols\u001b[0m\u001b[0;34m.\u001b[0m\u001b[0mis_unique\u001b[0m\u001b[0;34m:\u001b[0m\u001b[0;34m\u001b[0m\u001b[0m\n\u001b[1;32m    501\u001b[0m                     raise MergeError(\"Data columns not unique: %s\"\n",
      "\u001b[0;31mMergeError\u001b[0m: No common columns to perform merge on"
     ]
    }
   ],
   "source": [
    "pd.merge(mean_power, housedf).head()"
   ]
  },
  {
   "cell_type": "markdown",
   "metadata": {},
   "source": [
    "One way to fix this is to tell the `merge` function which columns you want to merge on."
   ]
  },
  {
   "cell_type": "code",
   "execution_count": 9,
   "metadata": {
    "collapsed": false
   },
   "outputs": [
    {
     "data": {
      "text/html": [
       "<div>\n",
       "<table border=\"1\" class=\"dataframe\">\n",
       "  <thead>\n",
       "    <tr style=\"text-align: right;\">\n",
       "      <th></th>\n",
       "      <th>house</th>\n",
       "      <th>power</th>\n",
       "      <th>triplex_meter</th>\n",
       "      <th>type</th>\n",
       "    </tr>\n",
       "  </thead>\n",
       "  <tbody>\n",
       "    <tr>\n",
       "      <th>0</th>\n",
       "      <td>triplex_meter_0</td>\n",
       "      <td>197.401486</td>\n",
       "      <td>triplex_meter_0</td>\n",
       "      <td>solar</td>\n",
       "    </tr>\n",
       "    <tr>\n",
       "      <th>1</th>\n",
       "      <td>triplex_meter_1</td>\n",
       "      <td>85.223124</td>\n",
       "      <td>triplex_meter_1</td>\n",
       "      <td>solar</td>\n",
       "    </tr>\n",
       "    <tr>\n",
       "      <th>2</th>\n",
       "      <td>triplex_meter_2</td>\n",
       "      <td>1225.211889</td>\n",
       "      <td>triplex_meter_2</td>\n",
       "      <td>nosolar</td>\n",
       "    </tr>\n",
       "    <tr>\n",
       "      <th>3</th>\n",
       "      <td>triplex_meter_3</td>\n",
       "      <td>1018.304115</td>\n",
       "      <td>triplex_meter_3</td>\n",
       "      <td>nosolar</td>\n",
       "    </tr>\n",
       "    <tr>\n",
       "      <th>4</th>\n",
       "      <td>triplex_meter_4</td>\n",
       "      <td>1173.583409</td>\n",
       "      <td>triplex_meter_4</td>\n",
       "      <td>nosolar</td>\n",
       "    </tr>\n",
       "  </tbody>\n",
       "</table>\n",
       "</div>"
      ],
      "text/plain": [
       "             house        power    triplex_meter     type\n",
       "0  triplex_meter_0   197.401486  triplex_meter_0    solar\n",
       "1  triplex_meter_1    85.223124  triplex_meter_1    solar\n",
       "2  triplex_meter_2  1225.211889  triplex_meter_2  nosolar\n",
       "3  triplex_meter_3  1018.304115  triplex_meter_3  nosolar\n",
       "4  triplex_meter_4  1173.583409  triplex_meter_4  nosolar"
      ]
     },
     "execution_count": 9,
     "metadata": {},
     "output_type": "execute_result"
    }
   ],
   "source": [
    "pd.merge(mean_power, housedf, left_on='house', right_on='triplex_meter').head()"
   ]
  },
  {
   "cell_type": "markdown",
   "metadata": {},
   "source": [
    "Another option, you can rename the columns."
   ]
  },
  {
   "cell_type": "code",
   "execution_count": 10,
   "metadata": {
    "collapsed": false
   },
   "outputs": [
    {
     "data": {
      "text/html": [
       "<div>\n",
       "<table border=\"1\" class=\"dataframe\">\n",
       "  <thead>\n",
       "    <tr style=\"text-align: right;\">\n",
       "      <th></th>\n",
       "      <th>house</th>\n",
       "      <th>power</th>\n",
       "      <th>type</th>\n",
       "    </tr>\n",
       "  </thead>\n",
       "  <tbody>\n",
       "    <tr>\n",
       "      <th>0</th>\n",
       "      <td>triplex_meter_0</td>\n",
       "      <td>197.401486</td>\n",
       "      <td>solar</td>\n",
       "    </tr>\n",
       "    <tr>\n",
       "      <th>1</th>\n",
       "      <td>triplex_meter_1</td>\n",
       "      <td>85.223124</td>\n",
       "      <td>solar</td>\n",
       "    </tr>\n",
       "    <tr>\n",
       "      <th>2</th>\n",
       "      <td>triplex_meter_2</td>\n",
       "      <td>1225.211889</td>\n",
       "      <td>nosolar</td>\n",
       "    </tr>\n",
       "    <tr>\n",
       "      <th>3</th>\n",
       "      <td>triplex_meter_3</td>\n",
       "      <td>1018.304115</td>\n",
       "      <td>nosolar</td>\n",
       "    </tr>\n",
       "    <tr>\n",
       "      <th>4</th>\n",
       "      <td>triplex_meter_4</td>\n",
       "      <td>1173.583409</td>\n",
       "      <td>nosolar</td>\n",
       "    </tr>\n",
       "  </tbody>\n",
       "</table>\n",
       "</div>"
      ],
      "text/plain": [
       "             house        power     type\n",
       "0  triplex_meter_0   197.401486    solar\n",
       "1  triplex_meter_1    85.223124    solar\n",
       "2  triplex_meter_2  1225.211889  nosolar\n",
       "3  triplex_meter_3  1018.304115  nosolar\n",
       "4  triplex_meter_4  1173.583409  nosolar"
      ]
     },
     "execution_count": 10,
     "metadata": {},
     "output_type": "execute_result"
    }
   ],
   "source": [
    "housedf.columns = ['house', 'type']\n",
    "pd.merge(mean_power, housedf).head()"
   ]
  },
  {
   "cell_type": "code",
   "execution_count": 11,
   "metadata": {
    "collapsed": false
   },
   "outputs": [
    {
     "data": {
      "text/html": [
       "<div>\n",
       "<table border=\"1\" class=\"dataframe\">\n",
       "  <thead>\n",
       "    <tr style=\"text-align: right;\">\n",
       "      <th></th>\n",
       "      <th>house</th>\n",
       "      <th>power</th>\n",
       "      <th>type</th>\n",
       "    </tr>\n",
       "  </thead>\n",
       "  <tbody>\n",
       "    <tr>\n",
       "      <th>0</th>\n",
       "      <td>triplex_meter_0</td>\n",
       "      <td>197.401486</td>\n",
       "      <td>solar</td>\n",
       "    </tr>\n",
       "    <tr>\n",
       "      <th>1</th>\n",
       "      <td>triplex_meter_1</td>\n",
       "      <td>85.223124</td>\n",
       "      <td>solar</td>\n",
       "    </tr>\n",
       "    <tr>\n",
       "      <th>2</th>\n",
       "      <td>triplex_meter_2</td>\n",
       "      <td>1225.211889</td>\n",
       "      <td>nosolar</td>\n",
       "    </tr>\n",
       "    <tr>\n",
       "      <th>3</th>\n",
       "      <td>triplex_meter_3</td>\n",
       "      <td>1018.304115</td>\n",
       "      <td>nosolar</td>\n",
       "    </tr>\n",
       "    <tr>\n",
       "      <th>4</th>\n",
       "      <td>triplex_meter_4</td>\n",
       "      <td>1173.583409</td>\n",
       "      <td>nosolar</td>\n",
       "    </tr>\n",
       "  </tbody>\n",
       "</table>\n",
       "</div>"
      ],
      "text/plain": [
       "             house        power     type\n",
       "0  triplex_meter_0   197.401486    solar\n",
       "1  triplex_meter_1    85.223124    solar\n",
       "2  triplex_meter_2  1225.211889  nosolar\n",
       "3  triplex_meter_3  1018.304115  nosolar\n",
       "4  triplex_meter_4  1173.583409  nosolar"
      ]
     },
     "execution_count": 11,
     "metadata": {},
     "output_type": "execute_result"
    }
   ],
   "source": [
    "merged = pd.merge(mean_power, housedf, on='house')\n",
    "merged.head()"
   ]
  },
  {
   "cell_type": "markdown",
   "metadata": {},
   "source": [
    "Average power by type?"
   ]
  },
  {
   "cell_type": "code",
   "execution_count": 12,
   "metadata": {
    "collapsed": false
   },
   "outputs": [
    {
     "data": {
      "text/html": [
       "<div>\n",
       "<table border=\"1\" class=\"dataframe\">\n",
       "  <thead>\n",
       "    <tr style=\"text-align: right;\">\n",
       "      <th></th>\n",
       "      <th>power</th>\n",
       "    </tr>\n",
       "    <tr>\n",
       "      <th>type</th>\n",
       "      <th></th>\n",
       "    </tr>\n",
       "  </thead>\n",
       "  <tbody>\n",
       "    <tr>\n",
       "      <th>nosolar</th>\n",
       "      <td>1141.269331</td>\n",
       "    </tr>\n",
       "    <tr>\n",
       "      <th>solar</th>\n",
       "      <td>237.341536</td>\n",
       "    </tr>\n",
       "  </tbody>\n",
       "</table>\n",
       "</div>"
      ],
      "text/plain": [
       "               power\n",
       "type                \n",
       "nosolar  1141.269331\n",
       "solar     237.341536"
      ]
     },
     "execution_count": 12,
     "metadata": {},
     "output_type": "execute_result"
    }
   ],
   "source": [
    "merged.groupby('type').mean()"
   ]
  },
  {
   "cell_type": "markdown",
   "metadata": {},
   "source": [
    "What about average power by `house` by `type`?"
   ]
  },
  {
   "cell_type": "code",
   "execution_count": 13,
   "metadata": {
    "collapsed": false
   },
   "outputs": [
    {
     "data": {
      "text/html": [
       "<div>\n",
       "<table border=\"1\" class=\"dataframe\">\n",
       "  <thead>\n",
       "    <tr style=\"text-align: right;\">\n",
       "      <th>type</th>\n",
       "      <th>nosolar</th>\n",
       "      <th>solar</th>\n",
       "    </tr>\n",
       "    <tr>\n",
       "      <th>house</th>\n",
       "      <th></th>\n",
       "      <th></th>\n",
       "    </tr>\n",
       "  </thead>\n",
       "  <tbody>\n",
       "    <tr>\n",
       "      <th>triplex_meter_0</th>\n",
       "      <td>NaN</td>\n",
       "      <td>197.401486</td>\n",
       "    </tr>\n",
       "    <tr>\n",
       "      <th>triplex_meter_1</th>\n",
       "      <td>NaN</td>\n",
       "      <td>85.223124</td>\n",
       "    </tr>\n",
       "    <tr>\n",
       "      <th>triplex_meter_10</th>\n",
       "      <td>NaN</td>\n",
       "      <td>425.965910</td>\n",
       "    </tr>\n",
       "    <tr>\n",
       "      <th>triplex_meter_11</th>\n",
       "      <td>1150.707959</td>\n",
       "      <td>NaN</td>\n",
       "    </tr>\n",
       "    <tr>\n",
       "      <th>triplex_meter_12</th>\n",
       "      <td>1088.173470</td>\n",
       "      <td>NaN</td>\n",
       "    </tr>\n",
       "  </tbody>\n",
       "</table>\n",
       "</div>"
      ],
      "text/plain": [
       "type                  nosolar       solar\n",
       "house                                    \n",
       "triplex_meter_0           NaN  197.401486\n",
       "triplex_meter_1           NaN   85.223124\n",
       "triplex_meter_10          NaN  425.965910\n",
       "triplex_meter_11  1150.707959         NaN\n",
       "triplex_meter_12  1088.173470         NaN"
      ]
     },
     "execution_count": 13,
     "metadata": {},
     "output_type": "execute_result"
    }
   ],
   "source": [
    "merged.pivot(index='house', columns='type', values='power').head()"
   ]
  },
  {
   "cell_type": "code",
   "execution_count": 14,
   "metadata": {
    "collapsed": false
   },
   "outputs": [
    {
     "data": {
      "image/png": "[encoded data removed]",
      "text/plain": [
       "<matplotlib.figure.Figure at 0x10ce9cd50>"
      ]
     },
     "metadata": {
      "image/png": {
       "height": 479,
       "width": 601
      }
     },
     "output_type": "display_data"
    }
   ],
   "source": [
    "_ = merged.pivot(index='house', columns='type', values='power').boxplot(return_type='axes')"
   ]
  },
  {
   "cell_type": "markdown",
   "metadata": {},
   "source": [
    "Save for later..."
   ]
  },
  {
   "cell_type": "code",
   "execution_count": 15,
   "metadata": {
    "collapsed": false
   },
   "outputs": [],
   "source": [
    "houses = merged.pivot(index='house', columns='type', values='power')\n",
    "houses.to_csv('data/boxplot.csv')"
   ]
  }
 ],
 "metadata": {
  "kernelspec": {
   "display_name": "Python 2",
   "language": "python",
   "name": "python2"
  },
  "language_info": {
   "codemirror_mode": {
    "name": "ipython",
    "version": 2
   },
   "file_extension": ".py",
   "mimetype": "text/x-python",
   "name": "python",
   "nbconvert_exporter": "python",
   "pygments_lexer": "ipython2",
   "version": "2.7.11"
  }
 },
 "nbformat": 4,
 "nbformat_minor": 0
}
